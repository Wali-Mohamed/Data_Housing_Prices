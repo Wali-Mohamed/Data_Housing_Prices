{
 "cells": [
  {
   "cell_type": "code",
   "execution_count": 169,
   "id": "029e9f15-1b24-490a-baef-c29f93c689a5",
   "metadata": {},
   "outputs": [],
   "source": [
    "import pandas as pd\n",
    "import numpy as np\n",
    "import matplotlib.pyplot as plt\n",
    "%matplotlib inline\n",
    "import seaborn as sns\n",
    "\n"
   ]
  },
  {
   "cell_type": "markdown",
   "id": "f86f8650-0119-4d9d-9aeb-9428a550fefa",
   "metadata": {},
   "source": [
    "# Import"
   ]
  },
  {
   "cell_type": "code",
   "execution_count": 170,
   "id": "621d5988-96e2-4781-b3be-5f1735aff200",
   "metadata": {},
   "outputs": [],
   "source": [
    "# read the dataset\n",
    "df=pd.read_csv('raw_house_data.csv')"
   ]
  },
  {
   "cell_type": "code",
   "execution_count": 171,
   "id": "a46884d8-70f5-4b88-875e-e0b4b9b570a7",
   "metadata": {},
   "outputs": [
    {
     "name": "stdout",
     "output_type": "stream",
     "text": [
      "<class 'pandas.core.frame.DataFrame'>\n",
      "RangeIndex: 5000 entries, 0 to 4999\n",
      "Data columns (total 16 columns):\n",
      " #   Column            Non-Null Count  Dtype  \n",
      "---  ------            --------------  -----  \n",
      " 0   MLS               5000 non-null   int64  \n",
      " 1   sold_price        5000 non-null   float64\n",
      " 2   zipcode           5000 non-null   int64  \n",
      " 3   longitude         5000 non-null   float64\n",
      " 4   latitude          5000 non-null   float64\n",
      " 5   lot_acres         4990 non-null   float64\n",
      " 6   taxes             5000 non-null   float64\n",
      " 7   year_built        5000 non-null   int64  \n",
      " 8   bedrooms          5000 non-null   int64  \n",
      " 9   bathrooms         5000 non-null   object \n",
      " 10  sqrt_ft           5000 non-null   object \n",
      " 11  garage            5000 non-null   object \n",
      " 12  kitchen_features  5000 non-null   object \n",
      " 13  fireplaces        5000 non-null   object \n",
      " 14  floor_covering    5000 non-null   object \n",
      " 15  HOA               5000 non-null   object \n",
      "dtypes: float64(5), int64(4), object(7)\n",
      "memory usage: 625.1+ KB\n"
     ]
    }
   ],
   "source": [
    "# get information about the columns\n",
    "df.info()"
   ]
  },
  {
   "cell_type": "markdown",
   "id": "bf2cfb5c-e0f0-4703-9461-44a079ef1c90",
   "metadata": {},
   "source": [
    "## cleaning data"
   ]
  },
  {
   "cell_type": "code",
   "execution_count": 172,
   "id": "e4416034-6519-4ba0-9265-1393301bcfdd",
   "metadata": {},
   "outputs": [
    {
     "data": {
      "text/plain": [
       "MLS                  0\n",
       "sold_price           0\n",
       "zipcode              0\n",
       "longitude            0\n",
       "latitude             0\n",
       "lot_acres           10\n",
       "taxes                0\n",
       "year_built           0\n",
       "bedrooms             0\n",
       "bathrooms            0\n",
       "sqrt_ft              0\n",
       "garage               0\n",
       "kitchen_features     0\n",
       "fireplaces           0\n",
       "floor_covering       0\n",
       "HOA                  0\n",
       "dtype: int64"
      ]
     },
     "execution_count": 172,
     "metadata": {},
     "output_type": "execute_result"
    }
   ],
   "source": [
    "# Check for NaN\n",
    "df.isnull().sum()"
   ]
  },
  {
   "cell_type": "code",
   "execution_count": 173,
   "id": "2ea57a01-67a1-4e55-a1e0-3020af9c9af3",
   "metadata": {},
   "outputs": [
    {
     "data": {
      "text/plain": [
       "MLS                 0\n",
       "sold_price          0\n",
       "zipcode             0\n",
       "longitude           0\n",
       "latitude            0\n",
       "lot_acres           0\n",
       "taxes               0\n",
       "year_built          0\n",
       "bedrooms            0\n",
       "bathrooms           0\n",
       "sqrt_ft             0\n",
       "garage              0\n",
       "kitchen_features    0\n",
       "fireplaces          0\n",
       "floor_covering      0\n",
       "HOA                 0\n",
       "dtype: int64"
      ]
     },
     "execution_count": 173,
     "metadata": {},
     "output_type": "execute_result"
    }
   ],
   "source": [
    "# drop NaN since they are only few\n",
    "df.dropna(inplace=True)\n",
    "df.isnull().sum()"
   ]
  },
  {
   "cell_type": "code",
   "execution_count": 174,
   "id": "d477310e-2ea4-4b5d-bb0a-a8fe90d6015a",
   "metadata": {},
   "outputs": [
    {
     "data": {
      "text/plain": [
       "bathrooms             20\n",
       "sqrt_ft             2362\n",
       "garage                22\n",
       "kitchen_features    1862\n",
       "fireplaces            11\n",
       "floor_covering       311\n",
       "HOA                  381\n",
       "dtype: int64"
      ]
     },
     "execution_count": 174,
     "metadata": {},
     "output_type": "execute_result"
    }
   ],
   "source": [
    "# Check for high and low cardinality\n",
    "df.select_dtypes('object').nunique()"
   ]
  },
  {
   "cell_type": "markdown",
   "id": "0905efc1-f4db-43e1-a368-e0a067d46da8",
   "metadata": {},
   "source": [
    "-- some categorical feature have missing values that could not be detected because it was a string with the word 'None'\n"
   ]
  },
  {
   "cell_type": "code",
   "execution_count": 175,
   "id": "8dec7251-5c75-4d1f-aeca-595681574673",
   "metadata": {},
   "outputs": [
    {
     "name": "stdout",
     "output_type": "stream",
     "text": [
      "bathrooms ['10' '2' '3' '5' '6' '4' '8' '7' '15' '4.5' '1' '9' '11' '18' '14' '3.5'\n",
      " 'None' '35' '2.5' '36']\n",
      "sqrt_ft ['10500' '7300' 'None' ... '2106' '3601' '1772']\n",
      "garage ['0' 'None' '4' '3' '5' '2' '6' '15' '8' '7' '4.5' '3.5' '2.5' '1' '9'\n",
      " '22' '30' '12' '10' '11' '20' '13']\n",
      "kitchen_features ['Dishwasher, Freezer, Refrigerator, Oven' 'Dishwasher, Garbage Disposal'\n",
      " 'Dishwasher, Garbage Disposal, Refrigerator' ...\n",
      " 'Dishwasher, Electric Range, Island, Refrigerator, Reverse Osmosis, Appliance Color: Stainless'\n",
      " 'Dishwasher, Double Sink, Garbage Disposal, Gas Range, Pantry: Cabinet, Appliance Color: Stainless, Countertops: Granite slab, Microwave: Stainless over oven, Oven: wall'\n",
      " 'Compactor, Dishwasher, Double Sink, Island, Appliance Color: Stainless']\n",
      "fireplaces ['6' '5' '4' '1' '2' '3' '7' '0' '9' ' ' '8']\n",
      "floor_covering ['Mexican Tile, Wood' 'Natural Stone, Other' 'Natural Stone, Other: Rock'\n",
      " 'Ceramic Tile, Laminate, Wood' 'Carpet, Concrete'\n",
      " 'Natural Stone, Wood, Other' 'Carpet, Natural Stone, Wood, Other'\n",
      " 'Carpet, Natural Stone, Wood' 'Concrete, Natural Stone, Wood'\n",
      " 'Mexican Tile, Natural Stone, Wood' 'Natural Stone' 'Natural Stone, Wood'\n",
      " 'Carpet, Natural Stone' 'Carpet, Concrete, Natural Stone, Wood'\n",
      " 'Carpet, Concrete, Mexican Tile' 'Carpet, Ceramic Tile, Natural Stone'\n",
      " 'Concrete' 'Carpet, Mexican Tile, Other' 'Carpet, Other: Porcelain'\n",
      " 'Carpet, Other' 'Carpet, Ceramic Tile, Mexican Tile'\n",
      " 'Ceramic Tile, Mexican Tile' 'Carpet, Mexican Tile'\n",
      " 'Carpet, Natural Stone, Vinyl' 'Ceramic Tile'\n",
      " 'Carpet, Wood, Other: Brick' 'Carpet, Wood, Other'\n",
      " 'Ceramic Tile, Mexican Tile, Wood'\n",
      " 'Carpet, Natural Stone, Other: Brick Pavers' 'Wood' 'Mexican Tile'\n",
      " 'Carpet, Wood, Other: Flagstone'\n",
      " 'Ceramic Tile, Concrete, Wood, Other: Marble-Master Bath'\n",
      " 'Ceramic Tile, Concrete' 'Concrete, Wood'\n",
      " 'Ceramic Tile, Natural Stone, Wood, Other: Marble, Granite'\n",
      " 'Carpet, Ceramic Tile, Other: Marble' 'Carpet, Concrete, Natural Stone'\n",
      " 'Carpet, Ceramic Tile' 'Carpet, Ceramic Tile, Wood'\n",
      " 'Carpet, Ceramic Tile, Natural Stone, Wood'\n",
      " 'Carpet, Concrete, Laminate, Natural Stone'\n",
      " 'Carpet, Ceramic Tile, Concrete' 'Carpet, Ceramic Tile, Other'\n",
      " 'Carpet, Mexican Tile, Wood' 'Concrete, Mexican Tile, Wood'\n",
      " 'Concrete, Mexican Tile, Wood, Other: concrete tile' 'Ceramic Tile, Wood'\n",
      " 'Laminate, Wood, Other: Porcelain Tile' 'Other: Quartzite'\n",
      " 'Concrete, Natural Stone' 'Carpet, Mexican Tile, Natural Stone'\n",
      " 'Other: Porcelyn' 'Carpet, Ceramic Tile, Concrete, Wood' 'Other: Tile'\n",
      " 'Other: Porcelain Tile'\n",
      " 'Carpet, Ceramic Tile, Concrete, Natural Stone, Wood'\n",
      " 'Carpet, Mexican Tile, Natural Stone, Wood' 'Carpet, Concrete, Wood'\n",
      " 'Carpet, Ceramic Tile, Wood, Other'\n",
      " 'Concrete, Wood, Other: Porcelain tile' 'Carpet, Other: Porcelain tile'\n",
      " 'Ceramic Tile, Concrete, Natural Stone, Wood'\n",
      " 'Carpet, Ceramic Tile, Laminate, Natural Stone'\n",
      " 'Carpet, Ceramic Tile, Natural Stone, Vinyl' 'Other' 'Carpet, Wood'\n",
      " 'Concrete, Mexican Tile' 'Mexican Tile, Other: CONCRETE TILE'\n",
      " 'Carpet, Natural Stone, Other' 'Ceramic Tile, Natural Stone'\n",
      " 'Carpet, Ceramic Tile, Mexican Tile, Wood'\n",
      " 'Carpet, Natural Stone, Other: Brick Floor' 'Concrete, Other: Saltillo'\n",
      " 'Carpet, Ceramic Tile, Wood, Other: Brick'\n",
      " 'Carpet, Wood, Other: Travertine Tile'\n",
      " 'Ceramic Tile, Indoor/Outdoor, Wood, Other'\n",
      " 'Ceramic Tile, Concrete, Mexican Tile, Other' 'Carpet, Concrete, Other'\n",
      " 'Natural Stone, Other: Travertine' 'Mexican Tile, Wood, Other'\n",
      " 'Wood, Other: Lime Stone'\n",
      " 'Carpet, Ceramic Tile, Natural Stone, Wood, Other' 'Other: Porcelain'\n",
      " 'Other: Travertine' 'Other: Flagstone' 'Natural Stone, Other: Limestone'\n",
      " 'Carpet, Other: Travertine' 'Carpet, Ceramic Tile, Laminate, Wood'\n",
      " 'Carpet, Ceramic Tile, Indoor/Outdoor, Natural Stone'\n",
      " 'Ceramic Tile, Concrete, Mexican Tile, Wood'\n",
      " 'Ceramic Tile, Concrete, Wood' 'Ceramic Tile, Natural Stone, Wood'\n",
      " 'Ceramic Tile, Wood, Other' 'Carpet, Mexican Tile, Other: Multiple Types'\n",
      " 'Carpet, Vinyl, Wood' 'Carpet, Laminate, Natural Stone, Wood'\n",
      " 'Carpet, Other: Brick' 'Carpet, Ceramic Tile, Concrete, Vinyl'\n",
      " 'Ceramic Tile, Mexican Tile, Vinyl, Wood' 'Mexican Tile, Natural Stone'\n",
      " 'Carpet, Ceramic Tile, Concrete, Mexican Tile'\n",
      " 'Carpet, Ceramic Tile, Concrete, Mexican Tile, Wood'\n",
      " 'Ceramic Tile, Concrete, Wood, Other: Refinished Brick'\n",
      " 'Mexican Tile, Natural Stone, Wood, Other: studio laminate'\n",
      " 'Carpet, Wood, Other: Porcelain/Engineered'\n",
      " 'Carpet, Concrete, Natural Stone, Wood, Other'\n",
      " 'Carpet, Ceramic Tile, Concrete, Other: Brick inlayed'\n",
      " 'Carpet, Other: Flagstone' 'Ceramic Tile, Vinyl, Wood'\n",
      " 'Ceramic Tile, Concrete, Vinyl, Other: Terrazzo'\n",
      " 'Ceramic Tile, Concrete, Natural Stone'\n",
      " 'Ceramic Tile, Vinyl, Other: Cement tiles/Bamboo'\n",
      " 'Carpet, Ceramic Tile, Laminate' 'Carpet, Laminate, Natural Stone'\n",
      " 'Carpet, Mexican Tile, Other: Brick' 'Carpet, Other: Brick Pavers'\n",
      " 'Carpet, Concrete, Other: Brick' 'Wood, Other'\n",
      " 'Carpet, Other: Porcelain Tile' 'Carpet' 'Carpet, Other: Slate'\n",
      " 'Carpet, Ceramic Tile, Concrete, Other'\n",
      " 'Carpet, Natural Stone, Vinyl, Wood' 'Carpet, Other: gray saltillo'\n",
      " 'Carpet, Ceramic Tile, Indoor/Outdoor' 'Other: Porcelain tile'\n",
      " 'Carpet, Vinyl, Other' 'Natural Stone, Wood, Other: Marble'\n",
      " 'Carpet, Mexican Tile, Wood, Other'\n",
      " 'Carpet, Natural Stone, Other: Travertine'\n",
      " 'Natural Stone, Wood, Other: Organic Wool Carpet'\n",
      " 'Carpet, Ceramic Tile, Concrete, Mexican Tile, Natural Stone'\n",
      " 'Carpet, Ceramic Tile, Natural Stone, Other' 'Other: Brick'\n",
      " 'Carpet, Other: brick' 'Concrete, Wood, Other: flagstone'\n",
      " 'Ceramic Tile, Laminate, Natural Stone'\n",
      " 'Carpet, Natural Stone, Wood, Other: Egytian sandstone'\n",
      " 'Carpet, Other: Travertine & slate'\n",
      " 'Carpet, Ceramic Tile, Concrete, Natural Stone'\n",
      " 'Ceramic Tile, Concrete, Wood, Other'\n",
      " 'Carpet, Concrete, Mexican Tile, Natural Stone'\n",
      " 'Carpet, Laminate, Other: Porcelain Tile' 'Ceramic Tile, Laminate'\n",
      " 'Carpet, Laminate, Other: Cork'\n",
      " 'Ceramic Tile, Mexican Tile, Natural Stone'\n",
      " 'Carpet, Laminate, Other: Brick' 'Carpet, Laminate'\n",
      " 'Carpet, Ceramic Tile, Mexican Tile, Natural Stone'\n",
      " 'Carpet, Ceramic Tile, Vinyl' 'Carpet, Wood, Other: Porcelain Tile'\n",
      " 'Other: TBD' 'Ceramic Tile, Mexican Tile, Wood, Other'\n",
      " 'Concrete, Vinyl, Wood' 'Carpet, Ceramic Tile, Mexican Tile, Vinyl'\n",
      " 'Carpet, Other: porcelain tile' 'Mexican Tile, Other'\n",
      " 'Concrete, Other: porclain tile'\n",
      " 'Carpet, Laminate, Mexican Tile, Other: Travertine'\n",
      " 'Mexican Tile, Other: Porcelain' 'Ceramic Tile, Concrete, Mexican Tile'\n",
      " 'Ceramic Tile, Other' 'Carpet, Mexican Tile, Wood, Other: Travertine'\n",
      " 'Other: None' 'Carpet, Concrete, Mexican Tile, Wood'\n",
      " 'Carpet, Ceramic Tile, Mexican Tile, Natural Stone, Wood'\n",
      " 'Other: 100% Porcelain Tile' 'Mexican Tile, Other: San Marcos Mex Tile'\n",
      " 'Carpet, Ceramic Tile, Natural Stone, Other: Travertine'\n",
      " 'Carpet, Mexican Tile, Wood, Other: Tile-Other'\n",
      " 'Ceramic Tile, Laminate, Other: carpet- guest house'\n",
      " 'Carpet, Natural Stone, Other: travertine/flagstone'\n",
      " 'Other: Recycled Porcelain' 'Carpet, Ceramic Tile, Other: Travertine'\n",
      " 'Ceramic Tile, Concrete, Mexican Tile, Natural Stone'\n",
      " 'Carpet, Laminate, Wood' 'Carpet, Other: Slate tile'\n",
      " 'Mexican Tile, Wood, Other: Brick'\n",
      " 'Carpet, Ceramic Tile, Mexican Tile, Other' 'Carpet, Concrete, Laminate'\n",
      " 'Ceramic Tile, Mexican Tile, Natural Stone, Wood'\n",
      " 'Natural Stone, Other: Travertine & Slate'\n",
      " 'Carpet, Laminate, Other: Porclain Tile' 'Concrete, Wood, Other'\n",
      " 'Carpet, Concrete, Wood, Other: travertine'\n",
      " 'Concrete, Wood, Other: Mesquite wood floors'\n",
      " 'Carpet, Ceramic Tile, Wood, Other: Slate' 'Carpet, Other: brick pavers'\n",
      " 'Concrete, Other' 'Carpet, Laminate, Mexican Tile, Natural Stone'\n",
      " 'Carpet, Concrete, Natural Stone, Other: Travertine'\n",
      " 'Carpet, Other: Tile-Other' 'Carpet, Mexican Tile, Other: Concrete tile'\n",
      " 'Ceramic Tile, Concrete, Other' 'Ceramic Tile, Concrete, Vinyl'\n",
      " 'Carpet, Ceramic Tile, Other: Porcelain' 'Other: travertine'\n",
      " 'Ceramic Tile, Wood, Other: Travertine Accents'\n",
      " 'Carpet, Ceramic Tile, Mexican Tile, Wood, Other' 'Other: Luxury Vinyl'\n",
      " 'Carpet, Concrete, Mexican Tile, Wood, Other'\n",
      " 'Ceramic Tile, Other: Throughout home'\n",
      " 'Carpet, Concrete, Other: Rojo Concrete Overla'\n",
      " 'Carpet, Ceramic Tile, Other: Wood laminate'\n",
      " 'Carpet, Ceramic Tile, Concrete, Wood, Other'\n",
      " 'Carpet, Concrete, Wood, Other: Travertine Tile' 'Other: Italian tile'\n",
      " 'Carpet, Ceramic Tile, Other: Brazilian Pergo'\n",
      " 'Carpet, Ceramic Tile, Natural Stone, Other: engineered wood'\n",
      " 'Laminate, Mexican Tile, Natural Stone, Wood'\n",
      " 'Carpet, Mexican Tile, Wood, Other: Slate'\n",
      " 'Concrete, Other: Polished Concrete' 'Natural Stone, Wood, Other: Cork'\n",
      " 'Ceramic Tile, Other: Marble' 'Carpet, Concrete, Vinyl'\n",
      " 'Carpet, Other: Talavera Floors'\n",
      " 'Carpet, Ceramic Tile, Other: Vinyl Plank' 'Wood, Other: Travertine'\n",
      " 'Carpet, Wood, Other: travertine'\n",
      " 'Carpet, Ceramic Tile, Other: NEW WOOD PLANK TILE'\n",
      " 'Carpet, Natural Stone, Wood, Other: Travertine'\n",
      " 'Mexican Tile, Other: saltillo' 'Wood, Other: Travertine/Marble'\n",
      " 'Other: Italian Tile' 'Carpet, Natural Stone, Other: Canterra Stone'\n",
      " 'Carpet, Laminate, Mexican Tile'\n",
      " 'Ceramic Tile, Other: Porcelain Plank Tile'\n",
      " 'Mexican Tile, Natural Stone, Other'\n",
      " 'Ceramic Tile, Other: Porcelain Wood Tile' 'Other: Polished Brick' 'None'\n",
      " 'Carpet, Natural Stone, Other: Tile/Powder Rm'\n",
      " 'Carpet, Ceramic Tile, Vinyl, Other: Parquet'\n",
      " 'Wood, Other: porcelain tile' 'Concrete, Natural Stone, Wood, Other'\n",
      " 'Carpet, Ceramic Tile, Vinyl, Wood'\n",
      " 'Carpet, Ceramic Tile, Wood, Other: Itailian Porclaine'\n",
      " 'Carpet, Ceramic Tile, Other: Red Brick'\n",
      " 'Ceramic Tile, Laminate, Other: High End Laminate' 'Carpet, Vinyl'\n",
      " 'Carpet, Ceramic Tile, Concrete, Laminate'\n",
      " 'Carpet, Mexican Tile, Wood, Other: Brick' 'Laminate, Natural Stone'\n",
      " 'Carpet, Ceramic Tile, Other: Master Bedroom/ Tile'\n",
      " 'Carpet, Other: Eng wood' 'Ceramic Tile, Other: concrete tile'\n",
      " 'Other: Tile-Other' 'Carpet, Ceramic Tile, Concrete, Other: cork'\n",
      " 'Carpet, Ceramic Tile, Concrete, Indoor/Outdoor, Natural Stone, Vinyl'\n",
      " 'Carpet, Ceramic Tile, Other: Travertine tile'\n",
      " 'Carpet, Concrete, Natural Stone, Other: See remarks'\n",
      " 'Carpet, Ceramic Tile, Other: PLANK TILE'\n",
      " 'Concrete, Other: Real polishd aggrgt'\n",
      " 'Carpet, Ceramic Tile, Other: Pergo'\n",
      " 'Carpet, Concrete, Laminate, Mexican Tile'\n",
      " 'Carpet, Ceramic Tile, Other: Brick in Studio'\n",
      " 'Laminate, Other: Porcelain tile 24x24'\n",
      " 'Natural Stone, Other: Wood Laminate' 'Ceramic Tile, Concrete, Laminate'\n",
      " 'Concrete, Laminate, Natural Stone, Wood'\n",
      " 'Carpet, Ceramic Tile, Other: Italian Tile'\n",
      " 'Carpet, Indoor/Outdoor, Natural Stone, Wood' 'Carpet, Other: porcelain'\n",
      " 'Carpet, Ceramic Tile, Other: Wood Laminate Water'\n",
      " 'Wood, Other: Porcelain tile' 'Ceramic Tile, Natural Stone, Other'\n",
      " 'Ceramic Tile, Vinyl' 'Carpet, Ceramic Tile, Other: WOOD LAMINATE'\n",
      " 'Concrete, Other: Stained concrete' 'Carpet, Concrete, Wood, Other'\n",
      " 'Carpet, Mexican Tile, Other: Custom Saltillo' 'Other: Saltillo tile'\n",
      " 'Ceramic Tile, Other: 20 x 20 on Diagonal'\n",
      " 'Ceramic Tile, Concrete, Wood, Other: Porcelain Tile'\n",
      " 'Carpet, Ceramic Tile, Laminate, Other: Wood like' 'Laminate, Vinyl'\n",
      " 'Natural Stone, Other: Porcelain-wood' 'Other: Polish concrete'\n",
      " 'Carpet, Ceramic Tile, Other: brick'\n",
      " 'Carpet, Ceramic Tile, Indoor/Outdoor, Wood' 'Concrete, Laminate'\n",
      " 'Carpet, Ceramic Tile, Other: acrylic overlay'\n",
      " 'Carpet, Ceramic Tile, Wood, Other: Saltillo'\n",
      " 'Concrete, Mexican Tile, Other' 'Mexican Tile, Other: Saltillo'\n",
      " 'Concrete, Wood, Other: Marble' 'Ceramic Tile, Other: Engineered Wood'\n",
      " 'Laminate, Mexican Tile, Natural Stone'\n",
      " 'Carpet, Ceramic Tile, Other: Flagstone'\n",
      " 'Carpet, Ceramic Tile, Other: NEW Plank Tile' 'Vinyl, Wood'\n",
      " 'Ceramic Tile, Natural Stone, Wood, Other: Travertine entry'\n",
      " 'Carpet, Other: Travertine Tile' 'Concrete, Laminate, Natural Stone'\n",
      " 'Ceramic Tile, Concrete, Wood, Other: Dyed Concrete'\n",
      " 'Ceramic Tile, Other: Hardwood'\n",
      " 'Carpet, Ceramic Tile, Other: Carpet bedrooms only'\n",
      " 'Ceramic Tile, Other: vinyl planks' 'Ceramic Tile, Other: UPG Flooring'\n",
      " 'Ceramic Tile, Mexican Tile, Other'\n",
      " 'Carpet, Ceramic Tile, Other: Lux Vinyl'\n",
      " 'Mexican Tile, Wood, Other: scored concrete'\n",
      " 'Ceramic Tile, Other: Bamboo'\n",
      " 'Ceramic Tile, Wood, Other: Saltillo on Patio'\n",
      " 'Ceramic Tile, Other: porcelain wood tile'\n",
      " 'Carpet, Ceramic Tile, Other: Wood Laminate'\n",
      " 'Concrete, Wood, Other: Tile bathrooms'\n",
      " 'Carpet, Ceramic Tile, Other: Wood Plan Laminate' 'Carpet, Other: Marble'\n",
      " 'Concrete, Other: Cork']\n",
      "HOA ['0' 'None' '55' '422' '220' '421' '141.67' '357' '148' '20,000' '142'\n",
      " '173' '167' '123' '300' '194' '1,717' '342' '240' '437' '112' '199' '178'\n",
      " '550' '258' '188' '169' '124' '320' '213' '153' '105' '159' '193' '69'\n",
      " '208' '50' '168' '191' '79' '157' '323' '1,100' '250' '158' '127' '149'\n",
      " '83' '118' '219' '88' '180' '259' '128' '117' '48' '130' '132' '135'\n",
      " '152' '33' '143' '5' '157.33' '129' '171' '273' '162' '131' '134' '211'\n",
      " '203' '190' '145' '83.33' '63' '177.34' '57' '115' '166' '184' '164'\n",
      " '125' '216' '195' '106' '214' '238' '212.88' '4' '30' '150' '19' '160'\n",
      " '138' '141' '146' '1,270' '15' '95' '19,480' '116' '311' '94' '21' '295'\n",
      " '57.33' '243' '23' '34' '215' '41' '18' '110' '233' '322' '43' '232'\n",
      " '100' '133' '4.16' '202' '700' '121' '40' '51' '179' '58' '102' '175'\n",
      " '97' '25' '139' '120' '137' '53' '2,000' '242' '49.43' '333' '270' '84'\n",
      " '8' '165' '506' '63.98' '35' '64' '258.08' '108' '187' '186' '1,600'\n",
      " '212' '12' '209' '107' '45' '52' '42' '145.83' '22' '96' '93' '122' '200'\n",
      " '241' '161' '37.5' '119.66' '155' '299' '154' '170' '221' '303' '140'\n",
      " '425' '172' '68' '75' '71' '44' '37' '6' '285' '67' '54.16' '9' '113'\n",
      " '17' '192' '1,010' '78' '609' '26' '213.88' '16' '54' '11' '39' '144'\n",
      " '56' '156' '263' '92' '119' '60' '76' '70' '516' '141.66' '343' '72'\n",
      " '126' '80' '247' '193.5' '20' '114' '43.75' '73' '317' '36.02' '1,290'\n",
      " '147' '32' '10' '332.66' '43.01' '198' '332.67' '69.16' '33.33' '16.67'\n",
      " '205' '58.33' '174' '249' '38' '66' '40.55' '2' '43.71' '103' '13' '185'\n",
      " '111' '98' '166.66' '8.33' '74' '49' '59' '89' '85' '62' '66.67' '151'\n",
      " '225.21' '65' '86' '109' '101' '81' '24' '77' '1,769' '50.42' '47'\n",
      " '73.72' '149.5' '188.33' '257' '73.33' '269' '4.17' '99' '225' '390'\n",
      " '40.77' '3' '194.51' '6.25' '55.58' '7' '87' '90' '53.34' '1,000'\n",
      " '275.08' '123.44' '267' '183' '136' '16.66' '97.66' '39.59' '58.36'\n",
      " '40.78' '62.5' '290' '330' '46' '36' '41.08' '5.5' '176' '1' '226'\n",
      " '15.41' '283' '82' '91' '252' '14' '275' '29' '324' '325' '87.66' '42.38'\n",
      " '5,900' '350' '233.33' '83.34' '8,333' '765' '68.66' '253' '15.45' '5.25'\n",
      " '88.33' '1,200' '60.5' '31' '189' '487.88' '20.83' '328' '168.92' '14.58'\n",
      " '368' '57.5' '61' '46.95' '750' '84.75' '34.17' '8.34' '5.41' '66.66'\n",
      " '45.9' '337' '202.75' '149.04' '134.5' '2.08' '35.83' '212.38' '10.83'\n",
      " '41.61' '925' '132.66' '41.66' '500' '99.66' '18.75' '177' '234' '28'\n",
      " '104' '294' '38.55' '63.33' '11.08' '210' '112.38' '5.4' '36.66' '78.65']\n"
     ]
    }
   ],
   "source": [
    "# checking all categorical features\n",
    "for i in df.select_dtypes('object').nunique().index:\n",
    "    print(i,df[i].unique())"
   ]
  },
  {
   "cell_type": "markdown",
   "id": "984e779f-3dc5-456a-8660-043d31ac866b",
   "metadata": {},
   "source": [
    "###  the following categories have 'None' in them\n",
    "-- bathrooms.  has 'None'  \n",
    "-- sqr_feet.    has 'None'  \n",
    "-- garage.      has 'None'  \n",
    "--fireplaces  has empty values  \n",
    "-- HOA has 'None'"
   ]
  },
  {
   "cell_type": "markdown",
   "id": "5541c59e-66d1-4117-b413-6c23f582d5ec",
   "metadata": {},
   "source": [
    "### kitchen_features and floor_covering has high cardinality\n",
    "A categorical feature is said to possess high cardinality when there are too many of these unique values. One-Hot Encoding becomes a big problem in such a case since we have a separate column for each unique value (indicating its presence or absence) in the categorical variable."
   ]
  },
  {
   "cell_type": "code",
   "execution_count": 176,
   "id": "2662cdd1-684c-4a02-9d35-84f3c4db2326",
   "metadata": {},
   "outputs": [
    {
     "data": {
      "text/plain": [
       "Index(['bathrooms', 'sqrt_ft', 'garage', 'kitchen_features', 'fireplaces',\n",
       "       'floor_covering', 'HOA'],\n",
       "      dtype='object')"
      ]
     },
     "execution_count": 176,
     "metadata": {},
     "output_type": "execute_result"
    }
   ],
   "source": [
    "# Check for high and low cardinality\n",
    "df.select_dtypes('object').nunique().index"
   ]
  },
  {
   "cell_type": "markdown",
   "id": "60858bf5-4957-405c-a19f-b0377c99ea8d",
   "metadata": {},
   "source": [
    "'bathrooms'  - keep this but change data type  \n",
    "'sqrt_ft',    keep this but change data type   \n",
    "'garage',     keep this but change data type  \n",
    "'kitchen_features',   drop this column   high cardinality\n",
    "'fireplaces',     keep this but change data type to int\n",
    " 'floor_covering',  drop this column  because of high cardinality\n",
    " 'HOA'  Homeowner Association Fees  keep this but change it to float"
   ]
  },
  {
   "cell_type": "code",
   "execution_count": 178,
   "id": "c0a485ef-64b9-44f5-878f-76f6b085cf31",
   "metadata": {},
   "outputs": [],
   "source": [
    "# replace 'None' with None so it will show when checking for missing values\n",
    "df['bathrooms']=df['bathrooms'].replace('None',None).astype(float)\n",
    "df['sqrt_ft']=df['sqrt_ft'].replace('None',None).astype(float)\n",
    "df['garage']=df['garage'].replace('None',None).astype(float)\n",
    "df['fireplaces']=df['fireplaces'].replace(' ',None).astype(float)\n",
    "df['HOA']= df['HOA'].str.replace(',','').replace('None', None).astype(float)"
   ]
  },
  {
   "cell_type": "code",
   "execution_count": 180,
   "id": "9c6a0d10-2f97-4cbd-86f8-eaec8a914359",
   "metadata": {},
   "outputs": [],
   "source": [
    "# drop the columns\n",
    "df.drop(columns=['kitchen_features', 'floor_covering'], inplace=True)\n"
   ]
  },
  {
   "cell_type": "code",
   "execution_count": 187,
   "id": "a086c3ae-9282-44e4-9954-6fd582e058e2",
   "metadata": {},
   "outputs": [
    {
     "data": {
      "text/plain": [
       "MLS           0.000000\n",
       "sold_price    0.000000\n",
       "zipcode       0.000000\n",
       "longitude     0.000000\n",
       "latitude      0.000000\n",
       "lot_acres     0.000000\n",
       "taxes         0.000000\n",
       "year_built    0.000000\n",
       "bedrooms      0.000000\n",
       "bathrooms     0.001202\n",
       "sqrt_ft       0.009218\n",
       "garage        0.001403\n",
       "fireplaces    0.003407\n",
       "HOA           0.112024\n",
       "dtype: float64"
      ]
     },
     "execution_count": 187,
     "metadata": {},
     "output_type": "execute_result"
    }
   ],
   "source": [
    "# check for null values as fractions of the columns. These value will be imputed with mean when training the model\n",
    "df.isnull().sum()/len(df)"
   ]
  },
  {
   "cell_type": "code",
   "execution_count": 193,
   "id": "10a28352-3e89-4c12-8610-b9341a49b610",
   "metadata": {},
   "outputs": [
    {
     "name": "stdout",
     "output_type": "stream",
     "text": [
      "<class 'pandas.core.frame.DataFrame'>\n",
      "Int64Index: 4990 entries, 0 to 4999\n",
      "Data columns (total 14 columns):\n",
      " #   Column      Non-Null Count  Dtype  \n",
      "---  ------      --------------  -----  \n",
      " 0   MLS         4990 non-null   int64  \n",
      " 1   sold_price  4990 non-null   float64\n",
      " 2   zipcode     4990 non-null   int64  \n",
      " 3   longitude   4990 non-null   float64\n",
      " 4   latitude    4990 non-null   float64\n",
      " 5   lot_acres   4990 non-null   float64\n",
      " 6   taxes       4990 non-null   float64\n",
      " 7   year_built  4990 non-null   int64  \n",
      " 8   bedrooms    4990 non-null   int64  \n",
      " 9   bathrooms   4984 non-null   float64\n",
      " 10  sqrt_ft     4944 non-null   float64\n",
      " 11  garage      4983 non-null   float64\n",
      " 12  fireplaces  4973 non-null   float64\n",
      " 13  HOA         4431 non-null   float64\n",
      "dtypes: float64(10), int64(4)\n",
      "memory usage: 584.8 KB\n"
     ]
    }
   ],
   "source": [
    "df.info()  # no more categorical features"
   ]
  },
  {
   "cell_type": "markdown",
   "id": "c2a184d1-e24d-4d8f-bcd5-73db8897d12b",
   "metadata": {},
   "source": [
    "MLS is a categorical feature even though it is in integers"
   ]
  },
  {
   "cell_type": "code",
   "execution_count": 199,
   "id": "d243f486-d5f3-4f64-b323-9ab73fb6b994",
   "metadata": {},
   "outputs": [
    {
     "data": {
      "text/plain": [
       "4990"
      ]
     },
     "execution_count": 199,
     "metadata": {},
     "output_type": "execute_result"
    }
   ],
   "source": [
    "df.MLS.nunique() # It has high cardinality and it has no impact on price. So it should be dropped"
   ]
  },
  {
   "cell_type": "code",
   "execution_count": 206,
   "id": "d3f7c9f0-4aa0-440c-9865-d1f598d78ea1",
   "metadata": {},
   "outputs": [],
   "source": [
    "# drop MLS column\n",
    "df.drop('MLS', axis=1, inplace=True)"
   ]
  },
  {
   "cell_type": "markdown",
   "id": "54c1f2e2-905c-41c4-a3e8-4db8bec240bd",
   "metadata": {},
   "source": [
    "# Explore"
   ]
  },
  {
   "cell_type": "code",
   "execution_count": 218,
   "id": "9e1f9f7d-d068-48e5-ae32-fe940d0b1e04",
   "metadata": {},
   "outputs": [
    {
     "data": {
      "image/png": "[encoded data removed]",
      "text/plain": [
       "<Figure size 640x480 with 1 Axes>"
      ]
     },
     "metadata": {},
     "output_type": "display_data"
    }
   ],
   "source": [
    "# plot histogram to check for distribution\n",
    "df['sold_price'].hist(bins=20);"
   ]
  },
  {
   "cell_type": "code",
   "execution_count": 219,
   "id": "2d254f2e-fa5a-4c80-ba9f-73927f982f95",
   "metadata": {},
   "outputs": [
    {
     "data": {
      "text/plain": [
       "count    4.990000e+03\n",
       "mean     7.749513e+05\n",
       "std      3.187799e+05\n",
       "min      1.690000e+05\n",
       "25%      5.850000e+05\n",
       "50%      6.750000e+05\n",
       "75%      8.367500e+05\n",
       "max      5.300000e+06\n",
       "Name: sold_price, dtype: float64"
      ]
     },
     "execution_count": 219,
     "metadata": {},
     "output_type": "execute_result"
    }
   ],
   "source": [
    "df['sold_price'].describe()"
   ]
  },
  {
   "cell_type": "code",
   "execution_count": 217,
   "id": "5bd6d0c4-b8de-49da-95b8-65fe878eb57a",
   "metadata": {},
   "outputs": [
    {
     "data": {
      "image/png": "[encoded data removed]",
      "text/plain": [
       "<Figure size 640x480 with 1 Axes>"
      ]
     },
     "metadata": {},
     "output_type": "display_data"
    }
   ],
   "source": [
    "df['sold_price'].plot(kind='box');\n",
    "# there are some outliers in the price"
   ]
  },
  {
   "cell_type": "code",
   "execution_count": 248,
   "id": "bedca83f-c4d8-4925-8006-e877f1cd8689",
   "metadata": {},
   "outputs": [],
   "source": [
    "# remove top 10% of the data because outliers can not be generalized\n",
    "low, high= df['sold_price'].quantile([0.1, 0.9])\n",
    "\n",
    "mask_no_outlier=df['sold_price'].between(low, high)\n",
    "df=df[mask_no_outlier]\n"
   ]
  },
  {
   "cell_type": "code",
   "execution_count": 242,
   "id": "3f40cb8d-b6e3-4cac-a2e3-e2e7ec8c0a0f",
   "metadata": {},
   "outputs": [
    {
     "data": {
      "image/png": "[encoded data removed]",
      "text/plain": [
       "<Figure size 640x480 with 1 Axes>"
      ]
     },
     "metadata": {},
     "output_type": "display_data"
    }
   ],
   "source": [
    "df['sold_price'].plot(kind='box');"
   ]
  },
  {
   "cell_type": "code",
   "execution_count": 245,
   "id": "85371584-829d-457e-b1ad-933cd7372297",
   "metadata": {},
   "outputs": [
    {
     "data": {
      "image/png": "[encoded data removed]",
      "text/plain": [
       "<Figure size 640x480 with 1 Axes>"
      ]
     },
     "metadata": {},
     "output_type": "display_data"
    }
   ],
   "source": [
    "df['sold_price'].hist(bins=15);"
   ]
  },
  {
   "cell_type": "code",
   "execution_count": 247,
   "id": "62ef2562-c5e5-4209-b2b0-47faa6332809",
   "metadata": {},
   "outputs": [
    {
     "data": {
      "text/plain": [
       "750000.0"
      ]
     },
     "execution_count": 247,
     "metadata": {},
     "output_type": "execute_result"
    }
   ],
   "source": []
  },
  {
   "cell_type": "code",
   "execution_count": 254,
   "id": "9f3966f0-c5c7-4227-b3b2-6040db188c17",
   "metadata": {},
   "outputs": [],
   "source": [
    "# check if there is any colinearity \n",
    "features=df.drop('sold_price', axis=1)\n",
    "c=features.corr()"
   ]
  },
  {
   "cell_type": "code",
   "execution_count": 256,
   "id": "310f8c76-44a6-4fb5-8930-9c05185bf7dc",
   "metadata": {},
   "outputs": [
    {
     "data": {
      "image/png": "[encoded data removed]",
      "text/plain": [
       "<Figure size 640x480 with 2 Axes>"
      ]
     },
     "metadata": {},
     "output_type": "display_data"
    }
   ],
   "source": [
    "sns.heatmap(c);"
   ]
  },
  {
   "cell_type": "code",
   "execution_count": null,
   "id": "224916f3-0ac2-4729-bcb3-700be7eb6d17",
   "metadata": {},
   "outputs": [],
   "source": [
    "\n"
   ]
  },
  {
   "cell_type": "code",
   "execution_count": null,
   "id": "a0a520b2-8141-409c-b5fd-1b83e37b27ed",
   "metadata": {},
   "outputs": [],
   "source": []
  }
 ],
 "metadata": {
  "kernelspec": {
   "display_name": "Python 3 (ipykernel)",
   "language": "python",
   "name": "python3"
  },
  "language_info": {
   "codemirror_mode": {
    "name": "ipython",
    "version": 3
   },
   "file_extension": ".py",
   "mimetype": "text/x-python",
   "name": "python",
   "nbconvert_exporter": "python",
   "pygments_lexer": "ipython3",
   "version": "3.9.13"
  }
 },
 "nbformat": 4,
 "nbformat_minor": 5
}
