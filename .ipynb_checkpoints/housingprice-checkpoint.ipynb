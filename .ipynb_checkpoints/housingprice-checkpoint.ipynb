{
 "cells": [
  {
   "cell_type": "code",
   "execution_count": 37,
   "id": "029e9f15-1b24-490a-baef-c29f93c689a5",
   "metadata": {},
   "outputs": [],
   "source": [
    "import pandas as pd\n",
    "import matplotlib.pyplot as plt\n",
    "%matplotlib inline\n",
    "import seaborn as sns\n",
    "\n"
   ]
  },
  {
   "cell_type": "markdown",
   "id": "f86f8650-0119-4d9d-9aeb-9428a550fefa",
   "metadata": {},
   "source": [
    "# Import"
   ]
  },
  {
   "cell_type": "code",
   "execution_count": 41,
   "id": "621d5988-96e2-4781-b3be-5f1735aff200",
   "metadata": {},
   "outputs": [
    {
     "ename": "FileNotFoundError",
     "evalue": "[Errno 2] No such file or directory: 'raw_house_data.csv'",
     "output_type": "error",
     "traceback": [
      "\u001b[1;31m---------------------------------------------------------------------------\u001b[0m",
      "\u001b[1;31mFileNotFoundError\u001b[0m                         Traceback (most recent call last)",
      "\u001b[1;32m~\\AppData\\Local\\Temp\\ipykernel_5772\\1294133011.py\u001b[0m in \u001b[0;36m<module>\u001b[1;34m\u001b[0m\n\u001b[1;32m----> 1\u001b[1;33m \u001b[0mpd\u001b[0m\u001b[1;33m.\u001b[0m\u001b[0mread_csv\u001b[0m\u001b[1;33m(\u001b[0m\u001b[1;34m'raw_house_data.csv'\u001b[0m\u001b[1;33m)\u001b[0m\u001b[1;33m\u001b[0m\u001b[1;33m\u001b[0m\u001b[0m\n\u001b[0m",
      "\u001b[1;32m~\\anaconda3\\lib\\site-packages\\pandas\\util\\_decorators.py\u001b[0m in \u001b[0;36mwrapper\u001b[1;34m(*args, **kwargs)\u001b[0m\n\u001b[0;32m    309\u001b[0m                     \u001b[0mstacklevel\u001b[0m\u001b[1;33m=\u001b[0m\u001b[0mstacklevel\u001b[0m\u001b[1;33m,\u001b[0m\u001b[1;33m\u001b[0m\u001b[1;33m\u001b[0m\u001b[0m\n\u001b[0;32m    310\u001b[0m                 )\n\u001b[1;32m--> 311\u001b[1;33m             \u001b[1;32mreturn\u001b[0m \u001b[0mfunc\u001b[0m\u001b[1;33m(\u001b[0m\u001b[1;33m*\u001b[0m\u001b[0margs\u001b[0m\u001b[1;33m,\u001b[0m \u001b[1;33m**\u001b[0m\u001b[0mkwargs\u001b[0m\u001b[1;33m)\u001b[0m\u001b[1;33m\u001b[0m\u001b[1;33m\u001b[0m\u001b[0m\n\u001b[0m\u001b[0;32m    312\u001b[0m \u001b[1;33m\u001b[0m\u001b[0m\n\u001b[0;32m    313\u001b[0m         \u001b[1;32mreturn\u001b[0m \u001b[0mwrapper\u001b[0m\u001b[1;33m\u001b[0m\u001b[1;33m\u001b[0m\u001b[0m\n",
      "\u001b[1;32m~\\anaconda3\\lib\\site-packages\\pandas\\io\\parsers\\readers.py\u001b[0m in \u001b[0;36mread_csv\u001b[1;34m(filepath_or_buffer, sep, delimiter, header, names, index_col, usecols, squeeze, prefix, mangle_dupe_cols, dtype, engine, converters, true_values, false_values, skipinitialspace, skiprows, skipfooter, nrows, na_values, keep_default_na, na_filter, verbose, skip_blank_lines, parse_dates, infer_datetime_format, keep_date_col, date_parser, dayfirst, cache_dates, iterator, chunksize, compression, thousands, decimal, lineterminator, quotechar, quoting, doublequote, escapechar, comment, encoding, encoding_errors, dialect, error_bad_lines, warn_bad_lines, on_bad_lines, delim_whitespace, low_memory, memory_map, float_precision, storage_options)\u001b[0m\n\u001b[0;32m    676\u001b[0m     \u001b[0mkwds\u001b[0m\u001b[1;33m.\u001b[0m\u001b[0mupdate\u001b[0m\u001b[1;33m(\u001b[0m\u001b[0mkwds_defaults\u001b[0m\u001b[1;33m)\u001b[0m\u001b[1;33m\u001b[0m\u001b[1;33m\u001b[0m\u001b[0m\n\u001b[0;32m    677\u001b[0m \u001b[1;33m\u001b[0m\u001b[0m\n\u001b[1;32m--> 678\u001b[1;33m     \u001b[1;32mreturn\u001b[0m \u001b[0m_read\u001b[0m\u001b[1;33m(\u001b[0m\u001b[0mfilepath_or_buffer\u001b[0m\u001b[1;33m,\u001b[0m \u001b[0mkwds\u001b[0m\u001b[1;33m)\u001b[0m\u001b[1;33m\u001b[0m\u001b[1;33m\u001b[0m\u001b[0m\n\u001b[0m\u001b[0;32m    679\u001b[0m \u001b[1;33m\u001b[0m\u001b[0m\n\u001b[0;32m    680\u001b[0m \u001b[1;33m\u001b[0m\u001b[0m\n",
      "\u001b[1;32m~\\anaconda3\\lib\\site-packages\\pandas\\io\\parsers\\readers.py\u001b[0m in \u001b[0;36m_read\u001b[1;34m(filepath_or_buffer, kwds)\u001b[0m\n\u001b[0;32m    573\u001b[0m \u001b[1;33m\u001b[0m\u001b[0m\n\u001b[0;32m    574\u001b[0m     \u001b[1;31m# Create the parser.\u001b[0m\u001b[1;33m\u001b[0m\u001b[1;33m\u001b[0m\u001b[0m\n\u001b[1;32m--> 575\u001b[1;33m     \u001b[0mparser\u001b[0m \u001b[1;33m=\u001b[0m \u001b[0mTextFileReader\u001b[0m\u001b[1;33m(\u001b[0m\u001b[0mfilepath_or_buffer\u001b[0m\u001b[1;33m,\u001b[0m \u001b[1;33m**\u001b[0m\u001b[0mkwds\u001b[0m\u001b[1;33m)\u001b[0m\u001b[1;33m\u001b[0m\u001b[1;33m\u001b[0m\u001b[0m\n\u001b[0m\u001b[0;32m    576\u001b[0m \u001b[1;33m\u001b[0m\u001b[0m\n\u001b[0;32m    577\u001b[0m     \u001b[1;32mif\u001b[0m \u001b[0mchunksize\u001b[0m \u001b[1;32mor\u001b[0m \u001b[0miterator\u001b[0m\u001b[1;33m:\u001b[0m\u001b[1;33m\u001b[0m\u001b[1;33m\u001b[0m\u001b[0m\n",
      "\u001b[1;32m~\\anaconda3\\lib\\site-packages\\pandas\\io\\parsers\\readers.py\u001b[0m in \u001b[0;36m__init__\u001b[1;34m(self, f, engine, **kwds)\u001b[0m\n\u001b[0;32m    930\u001b[0m \u001b[1;33m\u001b[0m\u001b[0m\n\u001b[0;32m    931\u001b[0m         \u001b[0mself\u001b[0m\u001b[1;33m.\u001b[0m\u001b[0mhandles\u001b[0m\u001b[1;33m:\u001b[0m \u001b[0mIOHandles\u001b[0m \u001b[1;33m|\u001b[0m \u001b[1;32mNone\u001b[0m \u001b[1;33m=\u001b[0m \u001b[1;32mNone\u001b[0m\u001b[1;33m\u001b[0m\u001b[1;33m\u001b[0m\u001b[0m\n\u001b[1;32m--> 932\u001b[1;33m         \u001b[0mself\u001b[0m\u001b[1;33m.\u001b[0m\u001b[0m_engine\u001b[0m \u001b[1;33m=\u001b[0m \u001b[0mself\u001b[0m\u001b[1;33m.\u001b[0m\u001b[0m_make_engine\u001b[0m\u001b[1;33m(\u001b[0m\u001b[0mf\u001b[0m\u001b[1;33m,\u001b[0m \u001b[0mself\u001b[0m\u001b[1;33m.\u001b[0m\u001b[0mengine\u001b[0m\u001b[1;33m)\u001b[0m\u001b[1;33m\u001b[0m\u001b[1;33m\u001b[0m\u001b[0m\n\u001b[0m\u001b[0;32m    933\u001b[0m \u001b[1;33m\u001b[0m\u001b[0m\n\u001b[0;32m    934\u001b[0m     \u001b[1;32mdef\u001b[0m \u001b[0mclose\u001b[0m\u001b[1;33m(\u001b[0m\u001b[0mself\u001b[0m\u001b[1;33m)\u001b[0m\u001b[1;33m:\u001b[0m\u001b[1;33m\u001b[0m\u001b[1;33m\u001b[0m\u001b[0m\n",
      "\u001b[1;32m~\\anaconda3\\lib\\site-packages\\pandas\\io\\parsers\\readers.py\u001b[0m in \u001b[0;36m_make_engine\u001b[1;34m(self, f, engine)\u001b[0m\n\u001b[0;32m   1214\u001b[0m             \u001b[1;31m# \"Union[str, PathLike[str], ReadCsvBuffer[bytes], ReadCsvBuffer[str]]\"\u001b[0m\u001b[1;33m\u001b[0m\u001b[1;33m\u001b[0m\u001b[0m\n\u001b[0;32m   1215\u001b[0m             \u001b[1;31m# , \"str\", \"bool\", \"Any\", \"Any\", \"Any\", \"Any\", \"Any\"\u001b[0m\u001b[1;33m\u001b[0m\u001b[1;33m\u001b[0m\u001b[0m\n\u001b[1;32m-> 1216\u001b[1;33m             self.handles = get_handle(  # type: ignore[call-overload]\n\u001b[0m\u001b[0;32m   1217\u001b[0m                 \u001b[0mf\u001b[0m\u001b[1;33m,\u001b[0m\u001b[1;33m\u001b[0m\u001b[1;33m\u001b[0m\u001b[0m\n\u001b[0;32m   1218\u001b[0m                 \u001b[0mmode\u001b[0m\u001b[1;33m,\u001b[0m\u001b[1;33m\u001b[0m\u001b[1;33m\u001b[0m\u001b[0m\n",
      "\u001b[1;32m~\\anaconda3\\lib\\site-packages\\pandas\\io\\common.py\u001b[0m in \u001b[0;36mget_handle\u001b[1;34m(path_or_buf, mode, encoding, compression, memory_map, is_text, errors, storage_options)\u001b[0m\n\u001b[0;32m    784\u001b[0m         \u001b[1;32mif\u001b[0m \u001b[0mioargs\u001b[0m\u001b[1;33m.\u001b[0m\u001b[0mencoding\u001b[0m \u001b[1;32mand\u001b[0m \u001b[1;34m\"b\"\u001b[0m \u001b[1;32mnot\u001b[0m \u001b[1;32min\u001b[0m \u001b[0mioargs\u001b[0m\u001b[1;33m.\u001b[0m\u001b[0mmode\u001b[0m\u001b[1;33m:\u001b[0m\u001b[1;33m\u001b[0m\u001b[1;33m\u001b[0m\u001b[0m\n\u001b[0;32m    785\u001b[0m             \u001b[1;31m# Encoding\u001b[0m\u001b[1;33m\u001b[0m\u001b[1;33m\u001b[0m\u001b[0m\n\u001b[1;32m--> 786\u001b[1;33m             handle = open(\n\u001b[0m\u001b[0;32m    787\u001b[0m                 \u001b[0mhandle\u001b[0m\u001b[1;33m,\u001b[0m\u001b[1;33m\u001b[0m\u001b[1;33m\u001b[0m\u001b[0m\n\u001b[0;32m    788\u001b[0m                 \u001b[0mioargs\u001b[0m\u001b[1;33m.\u001b[0m\u001b[0mmode\u001b[0m\u001b[1;33m,\u001b[0m\u001b[1;33m\u001b[0m\u001b[1;33m\u001b[0m\u001b[0m\n",
      "\u001b[1;31mFileNotFoundError\u001b[0m: [Errno 2] No such file or directory: 'raw_house_data.csv'"
     ]
    }
   ],
   "source": [
    "pd.read_csv()"
   ]
  },
  {
   "cell_type": "code",
   "execution_count": 40,
   "id": "a46884d8-70f5-4b88-875e-e0b4b9b570a7",
   "metadata": {},
   "outputs": [
    {
     "name": "stdout",
     "output_type": "stream",
     "text": [
      "<class 'pandas.core.frame.DataFrame'>\n",
      "RangeIndex: 5000 entries, 0 to 4999\n",
      "Data columns (total 16 columns):\n",
      " #   Column            Non-Null Count  Dtype  \n",
      "---  ------            --------------  -----  \n",
      " 0   MLS               5000 non-null   int64  \n",
      " 1   sold_price        5000 non-null   float64\n",
      " 2   zipcode           5000 non-null   int64  \n",
      " 3   longitude         5000 non-null   float64\n",
      " 4   latitude          5000 non-null   float64\n",
      " 5   lot_acres         4990 non-null   float64\n",
      " 6   taxes             5000 non-null   float64\n",
      " 7   year_built        5000 non-null   int64  \n",
      " 8   bedrooms          5000 non-null   int64  \n",
      " 9   bathrooms         5000 non-null   object \n",
      " 10  sqrt_ft           5000 non-null   object \n",
      " 11  garage            5000 non-null   object \n",
      " 12  kitchen_features  5000 non-null   object \n",
      " 13  fireplaces        5000 non-null   object \n",
      " 14  floor_covering    5000 non-null   object \n",
      " 15  HOA               5000 non-null   object \n",
      "dtypes: float64(5), int64(4), object(7)\n",
      "memory usage: 625.1+ KB\n"
     ]
    }
   ],
   "source": [
    "df.info()"
   ]
  },
  {
   "cell_type": "code",
   "execution_count": 28,
   "id": "8dec7251-5c75-4d1f-aeca-595681574673",
   "metadata": {},
   "outputs": [
    {
     "name": "stdout",
     "output_type": "stream",
     "text": [
      "['10' '2' '3' '5' '6' '4' '8' '7' '15' '4.5' '1' '9' '11' '18' '14' '3.5'\n",
      " 'None' '35' '2.5' '36']\n",
      "['10500' '7300' 'None' ... '2106' '3601' '1772']\n",
      "['0' 'None' '4' '3' '5' '2' '6' '15' '8' '7' '4.5' '3.5' '2.5' '1' '9'\n",
      " '22' '30' '12' '10' '11' '20' '13']\n",
      "['Dishwasher, Freezer, Refrigerator, Oven' 'Dishwasher, Garbage Disposal'\n",
      " 'Dishwasher, Garbage Disposal, Refrigerator' ...\n",
      " 'Dishwasher, Electric Range, Island, Refrigerator, Reverse Osmosis, Appliance Color: Stainless'\n",
      " 'Dishwasher, Double Sink, Garbage Disposal, Gas Range, Pantry: Cabinet, Appliance Color: Stainless, Countertops: Granite slab, Microwave: Stainless over oven, Oven: wall'\n",
      " 'Compactor, Dishwasher, Double Sink, Island, Appliance Color: Stainless']\n",
      "['6' '5' '4' '1' '2' '3' '7' '0' '9' ' ' '8']\n",
      "['Mexican Tile, Wood' 'Natural Stone, Other' 'Natural Stone, Other: Rock'\n",
      " 'Ceramic Tile, Laminate, Wood' 'Carpet, Concrete'\n",
      " 'Natural Stone, Wood, Other' 'Carpet, Natural Stone, Wood, Other'\n",
      " 'Carpet, Natural Stone, Wood' 'Concrete, Natural Stone, Wood'\n",
      " 'Mexican Tile, Natural Stone, Wood' 'Natural Stone' 'Natural Stone, Wood'\n",
      " 'Carpet, Natural Stone' 'Carpet, Concrete, Natural Stone, Wood'\n",
      " 'Carpet, Concrete, Mexican Tile' 'Carpet, Ceramic Tile, Natural Stone'\n",
      " 'Concrete' 'Carpet, Mexican Tile, Other' 'Carpet, Other: Porcelain'\n",
      " 'Carpet, Other' 'Carpet, Ceramic Tile, Mexican Tile'\n",
      " 'Ceramic Tile, Mexican Tile' 'Carpet, Mexican Tile'\n",
      " 'Carpet, Natural Stone, Vinyl' 'Ceramic Tile'\n",
      " 'Carpet, Wood, Other: Brick' 'Carpet, Wood, Other'\n",
      " 'Ceramic Tile, Mexican Tile, Wood'\n",
      " 'Carpet, Natural Stone, Other: Brick Pavers' 'Wood' 'Mexican Tile'\n",
      " 'Carpet, Wood, Other: Flagstone'\n",
      " 'Ceramic Tile, Concrete, Wood, Other: Marble-Master Bath'\n",
      " 'Ceramic Tile, Concrete' 'Concrete, Wood'\n",
      " 'Ceramic Tile, Natural Stone, Wood, Other: Marble, Granite'\n",
      " 'Carpet, Ceramic Tile, Other: Marble' 'Carpet, Concrete, Natural Stone'\n",
      " 'Carpet, Ceramic Tile' 'Carpet, Ceramic Tile, Wood'\n",
      " 'Carpet, Ceramic Tile, Natural Stone, Wood'\n",
      " 'Carpet, Concrete, Laminate, Natural Stone'\n",
      " 'Carpet, Ceramic Tile, Concrete' 'Carpet, Ceramic Tile, Other'\n",
      " 'Carpet, Mexican Tile, Wood' 'Concrete, Mexican Tile, Wood'\n",
      " 'Concrete, Mexican Tile, Wood, Other: concrete tile' 'Ceramic Tile, Wood'\n",
      " 'Laminate, Wood, Other: Porcelain Tile' 'Other: Quartzite'\n",
      " 'Concrete, Natural Stone' 'Carpet, Mexican Tile, Natural Stone'\n",
      " 'Other: Porcelyn' 'Carpet, Ceramic Tile, Concrete, Wood' 'Other: Tile'\n",
      " 'Other: Porcelain Tile'\n",
      " 'Carpet, Ceramic Tile, Concrete, Natural Stone, Wood'\n",
      " 'Carpet, Mexican Tile, Natural Stone, Wood' 'Carpet, Concrete, Wood'\n",
      " 'Carpet, Ceramic Tile, Wood, Other'\n",
      " 'Concrete, Wood, Other: Porcelain tile' 'Carpet, Other: Porcelain tile'\n",
      " 'Ceramic Tile, Concrete, Natural Stone, Wood'\n",
      " 'Carpet, Ceramic Tile, Laminate, Natural Stone'\n",
      " 'Carpet, Ceramic Tile, Natural Stone, Vinyl' 'Other' 'Carpet, Wood'\n",
      " 'Concrete, Mexican Tile' 'Mexican Tile, Other: CONCRETE TILE'\n",
      " 'Carpet, Natural Stone, Other' 'Ceramic Tile, Natural Stone'\n",
      " 'Carpet, Ceramic Tile, Mexican Tile, Wood'\n",
      " 'Carpet, Natural Stone, Other: Brick Floor' 'Concrete, Other: Saltillo'\n",
      " 'Carpet, Ceramic Tile, Wood, Other: Brick'\n",
      " 'Carpet, Wood, Other: Travertine Tile'\n",
      " 'Ceramic Tile, Indoor/Outdoor, Wood, Other'\n",
      " 'Ceramic Tile, Concrete, Mexican Tile, Other' 'Carpet, Concrete, Other'\n",
      " 'Natural Stone, Other: Travertine' 'Mexican Tile, Wood, Other'\n",
      " 'Wood, Other: Lime Stone'\n",
      " 'Carpet, Ceramic Tile, Natural Stone, Wood, Other' 'Other: Porcelain'\n",
      " 'Other: Travertine' 'Other: Flagstone' 'Natural Stone, Other: Limestone'\n",
      " 'Carpet, Other: Travertine' 'Carpet, Ceramic Tile, Laminate, Wood'\n",
      " 'Carpet, Ceramic Tile, Indoor/Outdoor, Natural Stone'\n",
      " 'Ceramic Tile, Concrete, Mexican Tile, Wood'\n",
      " 'Ceramic Tile, Concrete, Wood' 'Ceramic Tile, Natural Stone, Wood'\n",
      " 'Ceramic Tile, Wood, Other' 'Carpet, Mexican Tile, Other: Multiple Types'\n",
      " 'Carpet, Vinyl, Wood' 'Carpet, Laminate, Natural Stone, Wood'\n",
      " 'Carpet, Other: Brick' 'Carpet, Ceramic Tile, Concrete, Vinyl'\n",
      " 'Ceramic Tile, Mexican Tile, Vinyl, Wood' 'Mexican Tile, Natural Stone'\n",
      " 'Carpet, Ceramic Tile, Concrete, Mexican Tile'\n",
      " 'Carpet, Ceramic Tile, Concrete, Mexican Tile, Wood'\n",
      " 'Ceramic Tile, Concrete, Wood, Other: Refinished Brick'\n",
      " 'Mexican Tile, Natural Stone, Wood, Other: studio laminate'\n",
      " 'Carpet, Wood, Other: Porcelain/Engineered'\n",
      " 'Carpet, Concrete, Natural Stone, Wood, Other'\n",
      " 'Carpet, Ceramic Tile, Concrete, Other: Brick inlayed'\n",
      " 'Carpet, Other: Flagstone' 'Ceramic Tile, Vinyl, Wood'\n",
      " 'Ceramic Tile, Concrete, Vinyl, Other: Terrazzo'\n",
      " 'Ceramic Tile, Concrete, Natural Stone'\n",
      " 'Ceramic Tile, Vinyl, Other: Cement tiles/Bamboo'\n",
      " 'Carpet, Ceramic Tile, Laminate' 'Carpet, Laminate, Natural Stone'\n",
      " 'Carpet, Mexican Tile, Other: Brick' 'Carpet, Other: Brick Pavers'\n",
      " 'Carpet, Concrete, Other: Brick' 'Wood, Other'\n",
      " 'Carpet, Other: Porcelain Tile' 'Carpet' 'Carpet, Other: Slate'\n",
      " 'Carpet, Ceramic Tile, Concrete, Other'\n",
      " 'Carpet, Natural Stone, Vinyl, Wood' 'Carpet, Other: gray saltillo'\n",
      " 'Carpet, Ceramic Tile, Indoor/Outdoor' 'Other: Porcelain tile'\n",
      " 'Carpet, Vinyl, Other' 'Natural Stone, Wood, Other: Marble'\n",
      " 'Carpet, Mexican Tile, Wood, Other'\n",
      " 'Carpet, Natural Stone, Other: Travertine'\n",
      " 'Natural Stone, Wood, Other: Organic Wool Carpet'\n",
      " 'Carpet, Ceramic Tile, Concrete, Mexican Tile, Natural Stone'\n",
      " 'Carpet, Ceramic Tile, Natural Stone, Other' 'Other: Brick'\n",
      " 'Carpet, Other: brick' 'Concrete, Wood, Other: flagstone'\n",
      " 'Ceramic Tile, Laminate, Natural Stone'\n",
      " 'Carpet, Natural Stone, Wood, Other: Egytian sandstone'\n",
      " 'Carpet, Other: Travertine & slate'\n",
      " 'Carpet, Ceramic Tile, Concrete, Natural Stone'\n",
      " 'Ceramic Tile, Concrete, Wood, Other'\n",
      " 'Carpet, Concrete, Mexican Tile, Natural Stone'\n",
      " 'Carpet, Laminate, Other: Porcelain Tile' 'Ceramic Tile, Laminate'\n",
      " 'Carpet, Laminate, Other: Cork'\n",
      " 'Ceramic Tile, Mexican Tile, Natural Stone'\n",
      " 'Carpet, Laminate, Other: Brick' 'Carpet, Laminate'\n",
      " 'Carpet, Ceramic Tile, Mexican Tile, Natural Stone'\n",
      " 'Carpet, Ceramic Tile, Vinyl' 'Carpet, Wood, Other: Porcelain Tile'\n",
      " 'Other: TBD' 'Ceramic Tile, Mexican Tile, Wood, Other'\n",
      " 'Concrete, Vinyl, Wood' 'Carpet, Ceramic Tile, Mexican Tile, Vinyl'\n",
      " 'Carpet, Other: porcelain tile' 'Mexican Tile, Other'\n",
      " 'Concrete, Other: porclain tile'\n",
      " 'Carpet, Laminate, Mexican Tile, Other: Travertine'\n",
      " 'Mexican Tile, Other: Porcelain' 'Ceramic Tile, Concrete, Mexican Tile'\n",
      " 'Ceramic Tile, Other' 'Carpet, Mexican Tile, Wood, Other: Travertine'\n",
      " 'Other: None' 'Carpet, Concrete, Mexican Tile, Wood'\n",
      " 'Carpet, Ceramic Tile, Mexican Tile, Natural Stone, Wood'\n",
      " 'Other: 100% Porcelain Tile' 'Mexican Tile, Other: San Marcos Mex Tile'\n",
      " 'Carpet, Ceramic Tile, Natural Stone, Other: Travertine'\n",
      " 'Carpet, Mexican Tile, Wood, Other: Tile-Other'\n",
      " 'Ceramic Tile, Laminate, Other: carpet- guest house'\n",
      " 'Carpet, Natural Stone, Other: travertine/flagstone'\n",
      " 'Other: Recycled Porcelain' 'Carpet, Ceramic Tile, Other: Travertine'\n",
      " 'Ceramic Tile, Concrete, Mexican Tile, Natural Stone'\n",
      " 'Carpet, Laminate, Wood' 'Carpet, Other: Slate tile'\n",
      " 'Mexican Tile, Wood, Other: Brick'\n",
      " 'Carpet, Ceramic Tile, Mexican Tile, Other' 'Carpet, Concrete, Laminate'\n",
      " 'Ceramic Tile, Mexican Tile, Natural Stone, Wood'\n",
      " 'Natural Stone, Other: Travertine & Slate'\n",
      " 'Carpet, Laminate, Other: Porclain Tile' 'Concrete, Wood, Other'\n",
      " 'Carpet, Concrete, Wood, Other: travertine'\n",
      " 'Concrete, Wood, Other: Mesquite wood floors'\n",
      " 'Carpet, Ceramic Tile, Wood, Other: Slate' 'Carpet, Other: brick pavers'\n",
      " 'Concrete, Other' 'Carpet, Laminate, Mexican Tile, Natural Stone'\n",
      " 'Carpet, Concrete, Natural Stone, Other: Travertine'\n",
      " 'Carpet, Other: Tile-Other' 'Carpet, Mexican Tile, Other: Concrete tile'\n",
      " 'Ceramic Tile, Concrete, Other' 'Ceramic Tile, Concrete, Vinyl'\n",
      " 'Carpet, Ceramic Tile, Other: Porcelain' 'Other: travertine'\n",
      " 'Ceramic Tile, Wood, Other: Travertine Accents'\n",
      " 'Carpet, Ceramic Tile, Mexican Tile, Wood, Other' 'Other: Luxury Vinyl'\n",
      " 'Carpet, Concrete, Mexican Tile, Wood, Other'\n",
      " 'Ceramic Tile, Other: Throughout home'\n",
      " 'Carpet, Concrete, Other: Rojo Concrete Overla'\n",
      " 'Carpet, Ceramic Tile, Other: Wood laminate'\n",
      " 'Carpet, Ceramic Tile, Concrete, Wood, Other'\n",
      " 'Carpet, Concrete, Wood, Other: Travertine Tile' 'Other: Italian tile'\n",
      " 'Carpet, Ceramic Tile, Other: Brazilian Pergo'\n",
      " 'Carpet, Ceramic Tile, Natural Stone, Other: engineered wood'\n",
      " 'Laminate, Mexican Tile, Natural Stone, Wood'\n",
      " 'Carpet, Mexican Tile, Wood, Other: Slate'\n",
      " 'Concrete, Other: Polished Concrete' 'Natural Stone, Wood, Other: Cork'\n",
      " 'Ceramic Tile, Other: Marble' 'Carpet, Concrete, Vinyl'\n",
      " 'Carpet, Other: Talavera Floors'\n",
      " 'Carpet, Ceramic Tile, Other: Vinyl Plank' 'Wood, Other: Travertine'\n",
      " 'Carpet, Wood, Other: travertine'\n",
      " 'Carpet, Ceramic Tile, Other: NEW WOOD PLANK TILE'\n",
      " 'Carpet, Natural Stone, Wood, Other: Travertine'\n",
      " 'Mexican Tile, Other: saltillo' 'Wood, Other: Travertine/Marble'\n",
      " 'Other: Italian Tile' 'Carpet, Natural Stone, Other: Canterra Stone'\n",
      " 'Carpet, Laminate, Mexican Tile'\n",
      " 'Ceramic Tile, Other: Porcelain Plank Tile'\n",
      " 'Mexican Tile, Natural Stone, Other'\n",
      " 'Ceramic Tile, Other: Porcelain Wood Tile' 'Other: Polished Brick' 'None'\n",
      " 'Carpet, Natural Stone, Other: Tile/Powder Rm'\n",
      " 'Carpet, Ceramic Tile, Vinyl, Other: Parquet'\n",
      " 'Wood, Other: porcelain tile' 'Concrete, Natural Stone, Wood, Other'\n",
      " 'Carpet, Ceramic Tile, Vinyl, Wood'\n",
      " 'Carpet, Ceramic Tile, Wood, Other: Itailian Porclaine'\n",
      " 'Carpet, Ceramic Tile, Other: Red Brick'\n",
      " 'Ceramic Tile, Laminate, Other: High End Laminate' 'Carpet, Vinyl'\n",
      " 'Carpet, Ceramic Tile, Concrete, Laminate'\n",
      " 'Carpet, Mexican Tile, Wood, Other: Brick' 'Laminate, Natural Stone'\n",
      " 'Carpet, Ceramic Tile, Other: Master Bedroom/ Tile'\n",
      " 'Carpet, Other: Eng wood' 'Ceramic Tile, Other: concrete tile'\n",
      " 'Other: Tile-Other' 'Carpet, Ceramic Tile, Concrete, Other: cork'\n",
      " 'Carpet, Ceramic Tile, Concrete, Indoor/Outdoor, Natural Stone, Vinyl'\n",
      " 'Carpet, Ceramic Tile, Other: Travertine tile'\n",
      " 'Carpet, Concrete, Natural Stone, Other: See remarks'\n",
      " 'Carpet, Ceramic Tile, Other: PLANK TILE'\n",
      " 'Concrete, Other: Real polishd aggrgt'\n",
      " 'Carpet, Ceramic Tile, Other: Pergo'\n",
      " 'Carpet, Concrete, Laminate, Mexican Tile'\n",
      " 'Carpet, Ceramic Tile, Other: Brick in Studio'\n",
      " 'Laminate, Other: Porcelain tile 24x24'\n",
      " 'Natural Stone, Other: Wood Laminate' 'Ceramic Tile, Concrete, Laminate'\n",
      " 'Concrete, Laminate, Natural Stone, Wood'\n",
      " 'Carpet, Ceramic Tile, Other: Italian Tile'\n",
      " 'Carpet, Indoor/Outdoor, Natural Stone, Wood' 'Carpet, Other: porcelain'\n",
      " 'Carpet, Ceramic Tile, Other: Wood Laminate Water'\n",
      " 'Wood, Other: Porcelain tile' 'Ceramic Tile, Natural Stone, Other'\n",
      " 'Ceramic Tile, Vinyl' 'Carpet, Ceramic Tile, Other: WOOD LAMINATE'\n",
      " 'Concrete, Other: Stained concrete' 'Carpet, Concrete, Wood, Other'\n",
      " 'Carpet, Mexican Tile, Other: Custom Saltillo' 'Other: Saltillo tile'\n",
      " 'Ceramic Tile, Other: 20 x 20 on Diagonal'\n",
      " 'Ceramic Tile, Concrete, Wood, Other: Porcelain Tile'\n",
      " 'Carpet, Ceramic Tile, Laminate, Other: Wood like' 'Laminate, Vinyl'\n",
      " 'Natural Stone, Other: Porcelain-wood' 'Other: Polish concrete'\n",
      " 'Carpet, Ceramic Tile, Other: brick'\n",
      " 'Carpet, Ceramic Tile, Indoor/Outdoor, Wood' 'Concrete, Laminate'\n",
      " 'Carpet, Ceramic Tile, Other: acrylic overlay'\n",
      " 'Carpet, Ceramic Tile, Wood, Other: Saltillo'\n",
      " 'Concrete, Mexican Tile, Other' 'Mexican Tile, Other: Saltillo'\n",
      " 'Concrete, Wood, Other: Marble' 'Ceramic Tile, Other: Engineered Wood'\n",
      " 'Laminate, Mexican Tile, Natural Stone'\n",
      " 'Carpet, Ceramic Tile, Other: Flagstone'\n",
      " 'Carpet, Ceramic Tile, Other: NEW Plank Tile' 'Vinyl, Wood'\n",
      " 'Ceramic Tile, Natural Stone, Wood, Other: Travertine entry'\n",
      " 'Carpet, Other: Travertine Tile' 'Concrete, Laminate, Natural Stone'\n",
      " 'Ceramic Tile, Concrete, Wood, Other: Dyed Concrete'\n",
      " 'Ceramic Tile, Other: Hardwood'\n",
      " 'Carpet, Ceramic Tile, Other: Carpet bedrooms only'\n",
      " 'Ceramic Tile, Other: vinyl planks' 'Ceramic Tile, Other: UPG Flooring'\n",
      " 'Ceramic Tile, Mexican Tile, Other'\n",
      " 'Carpet, Ceramic Tile, Other: Lux Vinyl'\n",
      " 'Mexican Tile, Wood, Other: scored concrete'\n",
      " 'Ceramic Tile, Other: Bamboo'\n",
      " 'Ceramic Tile, Wood, Other: Saltillo on Patio'\n",
      " 'Ceramic Tile, Other: porcelain wood tile'\n",
      " 'Carpet, Ceramic Tile, Other: Wood Laminate'\n",
      " 'Concrete, Wood, Other: Tile bathrooms'\n",
      " 'Carpet, Ceramic Tile, Other: Wood Plan Laminate' 'Carpet, Other: Marble'\n",
      " 'Concrete, Other: Cork']\n",
      "['0' 'None' '55' '422' '220' '421' '141.67' '357' '148' '20,000' '142'\n",
      " '173' '167' '123' '300' '194' '1,717' '342' '240' '437' '112' '199' '178'\n",
      " '550' '258' '188' '169' '124' '320' '213' '153' '105' '159' '193' '69'\n",
      " '208' '50' '168' '191' '79' '157' '323' '1,100' '250' '158' '127' '149'\n",
      " '83' '118' '219' '88' '180' '259' '128' '117' '48' '130' '132' '135'\n",
      " '152' '33' '143' '5' '157.33' '129' '171' '273' '162' '131' '134' '211'\n",
      " '203' '190' '145' '83.33' '63' '177.34' '57' '115' '166' '184' '164'\n",
      " '125' '216' '195' '106' '214' '238' '212.88' '4' '30' '150' '19' '160'\n",
      " '138' '141' '146' '1,270' '15' '95' '19,480' '116' '311' '94' '21' '295'\n",
      " '57.33' '243' '23' '34' '215' '41' '18' '110' '233' '322' '43' '232'\n",
      " '100' '133' '4.16' '202' '700' '121' '40' '51' '179' '58' '102' '175'\n",
      " '97' '25' '139' '120' '137' '53' '2,000' '242' '49.43' '333' '270' '84'\n",
      " '8' '165' '506' '63.98' '35' '64' '258.08' '108' '187' '186' '1,600'\n",
      " '212' '12' '209' '107' '45' '52' '42' '145.83' '22' '96' '93' '122' '200'\n",
      " '241' '161' '37.5' '119.66' '155' '299' '154' '170' '221' '303' '140'\n",
      " '425' '172' '68' '75' '71' '44' '37' '6' '285' '67' '54.16' '9' '113'\n",
      " '17' '192' '1,010' '78' '609' '26' '213.88' '16' '54' '11' '39' '144'\n",
      " '56' '156' '263' '92' '119' '60' '76' '70' '516' '141.66' '343' '72'\n",
      " '126' '80' '247' '193.5' '20' '114' '43.75' '73' '317' '36.02' '1,290'\n",
      " '147' '32' '10' '332.66' '43.01' '198' '332.67' '69.16' '33.33' '16.67'\n",
      " '205' '58.33' '174' '249' '38' '66' '40.55' '2' '43.71' '103' '13' '185'\n",
      " '111' '98' '166.66' '8.33' '74' '49' '59' '89' '85' '62' '66.67' '151'\n",
      " '225.21' '65' '86' '109' '101' '81' '24' '77' '1,769' '50.42' '47'\n",
      " '73.72' '149.5' '188.33' '257' '73.33' '269' '4.17' '99' '225' '390'\n",
      " '40.77' '3' '194.51' '6.25' '55.58' '7' '87' '90' '53.34' '1,000'\n",
      " '275.08' '123.44' '267' '183' '136' '16.66' '97.66' '39.59' '58.36'\n",
      " '40.78' '62.5' '290' '330' '46' '36' '41.08' '5.5' '176' '1' '226'\n",
      " '15.41' '283' '82' '91' '252' '14' '275' '29' '324' '325' '87.66' '42.38'\n",
      " '5,900' '350' '233.33' '83.34' '8,333' '765' '68.66' '253' '15.45' '5.25'\n",
      " '88.33' '1,200' '60.5' '31' '189' '487.88' '20.83' '328' '168.92' '14.58'\n",
      " '368' '57.5' '61' '46.95' '750' '84.75' '34.17' '8.34' '5.41' '66.66'\n",
      " '45.9' '337' '202.75' '149.04' '134.5' '2.08' '35.83' '212.38' '10.83'\n",
      " '41.61' '925' '132.66' '41.66' '500' '99.66' '18.75' '177' '234' '28'\n",
      " '104' '294' '38.55' '63.33' '11.08' '210' '112.38' '5.4' '36.66' '78.65']\n"
     ]
    }
   ],
   "source": [
    "for i in df.select_dtypes('object').nunique().index:\n",
    "    print(df[i].unique())"
   ]
  },
  {
   "cell_type": "code",
   "execution_count": 32,
   "id": "a086c3ae-9282-44e4-9954-6fd582e058e2",
   "metadata": {},
   "outputs": [
    {
     "data": {
      "text/plain": [
       "0       21530491\n",
       "1       21529082\n",
       "2        3054672\n",
       "3       21919321\n",
       "4       21306357\n",
       "          ...   \n",
       "4995    21810382\n",
       "4996    21908591\n",
       "4997    21832452\n",
       "4998    21900515\n",
       "4999     4111490\n",
       "Name: MLS, Length: 5000, dtype: int64"
      ]
     },
     "execution_count": 32,
     "metadata": {},
     "output_type": "execute_result"
    }
   ],
   "source": [
    "df.select_dtypes('object').nunique()\n",
    "df.MLS"
   ]
  },
  {
   "cell_type": "markdown",
   "id": "54c1f2e2-905c-41c4-a3e8-4db8bec240bd",
   "metadata": {},
   "source": [
    "# Explore"
   ]
  },
  {
   "cell_type": "code",
   "execution_count": 6,
   "id": "9e1f9f7d-d068-48e5-ae32-fe940d0b1e04",
   "metadata": {},
   "outputs": [
    {
     "data": {
      "image/png": "[encoded data removed]",
      "text/plain": [
       "<Figure size 640x480 with 1 Axes>"
      ]
     },
     "metadata": {},
     "output_type": "display_data"
    }
   ],
   "source": [
    "df['sold_price'].hist(bins=15);"
   ]
  },
  {
   "cell_type": "code",
   "execution_count": 7,
   "id": "8ed2afc5-95d0-4453-b088-a2ca07fd44b5",
   "metadata": {},
   "outputs": [
    {
     "data": {
      "text/plain": [
       "count    5.000000e+03\n",
       "mean     7.746262e+05\n",
       "std      3.185556e+05\n",
       "min      1.690000e+05\n",
       "25%      5.850000e+05\n",
       "50%      6.750000e+05\n",
       "75%      8.350000e+05\n",
       "max      5.300000e+06\n",
       "Name: sold_price, dtype: float64"
      ]
     },
     "execution_count": 7,
     "metadata": {},
     "output_type": "execute_result"
    }
   ],
   "source": [
    "df['sold_price'].describe()"
   ]
  },
  {
   "cell_type": "code",
   "execution_count": 8,
   "id": "5bd6d0c4-b8de-49da-95b8-65fe878eb57a",
   "metadata": {},
   "outputs": [
    {
     "data": {
      "text/plain": [
       "<AxesSubplot:>"
      ]
     },
     "execution_count": 8,
     "metadata": {},
     "output_type": "execute_result"
    },
    {
     "data": {
      "image/png": "[encoded data removed]",
      "text/plain": [
       "<Figure size 640x480 with 1 Axes>"
      ]
     },
     "metadata": {},
     "output_type": "display_data"
    }
   ],
   "source": [
    "df['sold_price'].plot(kind='box')"
   ]
  },
  {
   "cell_type": "code",
   "execution_count": 9,
   "id": "bedca83f-c4d8-4925-8006-e877f1cd8689",
   "metadata": {},
   "outputs": [],
   "source": [
    "max=df['sold_price'].max()"
   ]
  },
  {
   "cell_type": "code",
   "execution_count": 10,
   "id": "3f40cb8d-b6e3-4cac-a2e3-e2e7ec8c0a0f",
   "metadata": {},
   "outputs": [
    {
     "data": {
      "text/html": [
       "<div>\n",
       "<style scoped>\n",
       "    .dataframe tbody tr th:only-of-type {\n",
       "        vertical-align: middle;\n",
       "    }\n",
       "\n",
       "    .dataframe tbody tr th {\n",
       "        vertical-align: top;\n",
       "    }\n",
       "\n",
       "    .dataframe thead th {\n",
       "        text-align: right;\n",
       "    }\n",
       "</style>\n",
       "<table border=\"1\" class=\"dataframe\">\n",
       "  <thead>\n",
       "    <tr style=\"text-align: right;\">\n",
       "      <th></th>\n",
       "      <th>MLS</th>\n",
       "      <th>sold_price</th>\n",
       "      <th>zipcode</th>\n",
       "      <th>longitude</th>\n",
       "      <th>latitude</th>\n",
       "      <th>lot_acres</th>\n",
       "      <th>taxes</th>\n",
       "      <th>year_built</th>\n",
       "      <th>bedrooms</th>\n",
       "      <th>bathrooms</th>\n",
       "      <th>sqrt_ft</th>\n",
       "      <th>garage</th>\n",
       "      <th>kitchen_features</th>\n",
       "      <th>fireplaces</th>\n",
       "      <th>floor_covering</th>\n",
       "      <th>HOA</th>\n",
       "    </tr>\n",
       "  </thead>\n",
       "  <tbody>\n",
       "    <tr>\n",
       "      <th>0</th>\n",
       "      <td>21530491</td>\n",
       "      <td>5300000.0</td>\n",
       "      <td>85637</td>\n",
       "      <td>-110.3782</td>\n",
       "      <td>31.356362</td>\n",
       "      <td>2154.0</td>\n",
       "      <td>5272.0</td>\n",
       "      <td>1941</td>\n",
       "      <td>13</td>\n",
       "      <td>10</td>\n",
       "      <td>10500</td>\n",
       "      <td>0</td>\n",
       "      <td>Dishwasher, Freezer, Refrigerator, Oven</td>\n",
       "      <td>6</td>\n",
       "      <td>Mexican Tile, Wood</td>\n",
       "      <td>0</td>\n",
       "    </tr>\n",
       "  </tbody>\n",
       "</table>\n",
       "</div>"
      ],
      "text/plain": [
       "        MLS  sold_price  zipcode  longitude   latitude  lot_acres   taxes  \\\n",
       "0  21530491   5300000.0    85637  -110.3782  31.356362     2154.0  5272.0   \n",
       "\n",
       "   year_built  bedrooms bathrooms sqrt_ft garage  \\\n",
       "0        1941        13        10   10500      0   \n",
       "\n",
       "                          kitchen_features fireplaces      floor_covering HOA  \n",
       "0  Dishwasher, Freezer, Refrigerator, Oven          6  Mexican Tile, Wood   0  "
      ]
     },
     "execution_count": 10,
     "metadata": {},
     "output_type": "execute_result"
    }
   ],
   "source": [
    "df[df['sold_price']==max]"
   ]
  },
  {
   "cell_type": "code",
   "execution_count": 11,
   "id": "62ef2562-c5e5-4209-b2b0-47faa6332809",
   "metadata": {},
   "outputs": [
    {
     "data": {
      "text/plain": [
       "<bound method Series.idxmax of 0       5300000.0\n",
       "1       4200000.0\n",
       "2       4200000.0\n",
       "3       4500000.0\n",
       "4       3411450.0\n",
       "          ...    \n",
       "4995     495000.0\n",
       "4996     550000.0\n",
       "4997     475000.0\n",
       "4998     550000.0\n",
       "4999     450000.0\n",
       "Name: sold_price, Length: 5000, dtype: float64>"
      ]
     },
     "execution_count": 11,
     "metadata": {},
     "output_type": "execute_result"
    }
   ],
   "source": [
    "df['sold_price'].idxmax"
   ]
  },
  {
   "cell_type": "code",
   "execution_count": 12,
   "id": "9f3966f0-c5c7-4227-b3b2-6040db188c17",
   "metadata": {},
   "outputs": [
    {
     "data": {
      "text/html": [
       "<div>\n",
       "<style scoped>\n",
       "    .dataframe tbody tr th:only-of-type {\n",
       "        vertical-align: middle;\n",
       "    }\n",
       "\n",
       "    .dataframe tbody tr th {\n",
       "        vertical-align: top;\n",
       "    }\n",
       "\n",
       "    .dataframe thead th {\n",
       "        text-align: right;\n",
       "    }\n",
       "</style>\n",
       "<table border=\"1\" class=\"dataframe\">\n",
       "  <thead>\n",
       "    <tr style=\"text-align: right;\">\n",
       "      <th></th>\n",
       "      <th>MLS</th>\n",
       "      <th>sold_price</th>\n",
       "      <th>zipcode</th>\n",
       "      <th>longitude</th>\n",
       "      <th>latitude</th>\n",
       "      <th>lot_acres</th>\n",
       "      <th>taxes</th>\n",
       "      <th>year_built</th>\n",
       "      <th>bedrooms</th>\n",
       "    </tr>\n",
       "  </thead>\n",
       "  <tbody>\n",
       "    <tr>\n",
       "      <th>MLS</th>\n",
       "      <td>1.000000</td>\n",
       "      <td>0.031019</td>\n",
       "      <td>0.323165</td>\n",
       "      <td>0.118296</td>\n",
       "      <td>0.441466</td>\n",
       "      <td>-0.084742</td>\n",
       "      <td>0.003306</td>\n",
       "      <td>-0.003144</td>\n",
       "      <td>-0.012254</td>\n",
       "    </tr>\n",
       "    <tr>\n",
       "      <th>sold_price</th>\n",
       "      <td>0.031019</td>\n",
       "      <td>1.000000</td>\n",
       "      <td>-0.039925</td>\n",
       "      <td>-0.036819</td>\n",
       "      <td>0.035206</td>\n",
       "      <td>0.332357</td>\n",
       "      <td>0.023326</td>\n",
       "      <td>-0.014064</td>\n",
       "      <td>0.115932</td>\n",
       "    </tr>\n",
       "    <tr>\n",
       "      <th>zipcode</th>\n",
       "      <td>0.323165</td>\n",
       "      <td>-0.039925</td>\n",
       "      <td>1.000000</td>\n",
       "      <td>0.049399</td>\n",
       "      <td>0.457102</td>\n",
       "      <td>-0.127783</td>\n",
       "      <td>-0.001265</td>\n",
       "      <td>0.037776</td>\n",
       "      <td>0.049982</td>\n",
       "    </tr>\n",
       "    <tr>\n",
       "      <th>longitude</th>\n",
       "      <td>0.118296</td>\n",
       "      <td>-0.036819</td>\n",
       "      <td>0.049399</td>\n",
       "      <td>1.000000</td>\n",
       "      <td>-0.251697</td>\n",
       "      <td>0.127900</td>\n",
       "      <td>-0.000959</td>\n",
       "      <td>-0.008791</td>\n",
       "      <td>0.058279</td>\n",
       "    </tr>\n",
       "    <tr>\n",
       "      <th>latitude</th>\n",
       "      <td>0.441466</td>\n",
       "      <td>0.035206</td>\n",
       "      <td>0.457102</td>\n",
       "      <td>-0.251697</td>\n",
       "      <td>1.000000</td>\n",
       "      <td>-0.202018</td>\n",
       "      <td>0.000823</td>\n",
       "      <td>0.080538</td>\n",
       "      <td>-0.091935</td>\n",
       "    </tr>\n",
       "    <tr>\n",
       "      <th>lot_acres</th>\n",
       "      <td>-0.084742</td>\n",
       "      <td>0.332357</td>\n",
       "      <td>-0.127783</td>\n",
       "      <td>0.127900</td>\n",
       "      <td>-0.202018</td>\n",
       "      <td>1.000000</td>\n",
       "      <td>-0.000571</td>\n",
       "      <td>-0.039552</td>\n",
       "      <td>0.069277</td>\n",
       "    </tr>\n",
       "    <tr>\n",
       "      <th>taxes</th>\n",
       "      <td>0.003306</td>\n",
       "      <td>0.023326</td>\n",
       "      <td>-0.001265</td>\n",
       "      <td>-0.000959</td>\n",
       "      <td>0.000823</td>\n",
       "      <td>-0.000571</td>\n",
       "      <td>1.000000</td>\n",
       "      <td>0.000021</td>\n",
       "      <td>0.005259</td>\n",
       "    </tr>\n",
       "    <tr>\n",
       "      <th>year_built</th>\n",
       "      <td>-0.003144</td>\n",
       "      <td>-0.014064</td>\n",
       "      <td>0.037776</td>\n",
       "      <td>-0.008791</td>\n",
       "      <td>0.080538</td>\n",
       "      <td>-0.039552</td>\n",
       "      <td>0.000021</td>\n",
       "      <td>1.000000</td>\n",
       "      <td>-0.086302</td>\n",
       "    </tr>\n",
       "    <tr>\n",
       "      <th>bedrooms</th>\n",
       "      <td>-0.012254</td>\n",
       "      <td>0.115932</td>\n",
       "      <td>0.049982</td>\n",
       "      <td>0.058279</td>\n",
       "      <td>-0.091935</td>\n",
       "      <td>0.069277</td>\n",
       "      <td>0.005259</td>\n",
       "      <td>-0.086302</td>\n",
       "      <td>1.000000</td>\n",
       "    </tr>\n",
       "  </tbody>\n",
       "</table>\n",
       "</div>"
      ],
      "text/plain": [
       "                 MLS  sold_price   zipcode  longitude  latitude  lot_acres  \\\n",
       "MLS         1.000000    0.031019  0.323165   0.118296  0.441466  -0.084742   \n",
       "sold_price  0.031019    1.000000 -0.039925  -0.036819  0.035206   0.332357   \n",
       "zipcode     0.323165   -0.039925  1.000000   0.049399  0.457102  -0.127783   \n",
       "longitude   0.118296   -0.036819  0.049399   1.000000 -0.251697   0.127900   \n",
       "latitude    0.441466    0.035206  0.457102  -0.251697  1.000000  -0.202018   \n",
       "lot_acres  -0.084742    0.332357 -0.127783   0.127900 -0.202018   1.000000   \n",
       "taxes       0.003306    0.023326 -0.001265  -0.000959  0.000823  -0.000571   \n",
       "year_built -0.003144   -0.014064  0.037776  -0.008791  0.080538  -0.039552   \n",
       "bedrooms   -0.012254    0.115932  0.049982   0.058279 -0.091935   0.069277   \n",
       "\n",
       "               taxes  year_built  bedrooms  \n",
       "MLS         0.003306   -0.003144 -0.012254  \n",
       "sold_price  0.023326   -0.014064  0.115932  \n",
       "zipcode    -0.001265    0.037776  0.049982  \n",
       "longitude  -0.000959   -0.008791  0.058279  \n",
       "latitude    0.000823    0.080538 -0.091935  \n",
       "lot_acres  -0.000571   -0.039552  0.069277  \n",
       "taxes       1.000000    0.000021  0.005259  \n",
       "year_built  0.000021    1.000000 -0.086302  \n",
       "bedrooms    0.005259   -0.086302  1.000000  "
      ]
     },
     "execution_count": 12,
     "metadata": {},
     "output_type": "execute_result"
    }
   ],
   "source": [
    "df.corr()"
   ]
  },
  {
   "cell_type": "code",
   "execution_count": 13,
   "id": "310f8c76-44a6-4fb5-8930-9c05185bf7dc",
   "metadata": {},
   "outputs": [
    {
     "data": {
      "text/plain": [
       "<AxesSubplot:>"
      ]
     },
     "execution_count": 13,
     "metadata": {},
     "output_type": "execute_result"
    },
    {
     "data": {
      "image/png": "[encoded data removed]",
      "text/plain": [
       "<Figure size 640x480 with 2 Axes>"
      ]
     },
     "metadata": {},
     "output_type": "display_data"
    }
   ],
   "source": [
    "sns.heatmap(df.corr())"
   ]
  },
  {
   "cell_type": "code",
   "execution_count": null,
   "id": "224916f3-0ac2-4729-bcb3-700be7eb6d17",
   "metadata": {},
   "outputs": [],
   "source": []
  }
 ],
 "metadata": {
  "kernelspec": {
   "display_name": "Python 3 (ipykernel)",
   "language": "python",
   "name": "python3"
  },
  "language_info": {
   "codemirror_mode": {
    "name": "ipython",
    "version": 3
   },
   "file_extension": ".py",
   "mimetype": "text/x-python",
   "name": "python",
   "nbconvert_exporter": "python",
   "pygments_lexer": "ipython3",
   "version": "3.9.13"
  }
 },
 "nbformat": 4,
 "nbformat_minor": 5
}
